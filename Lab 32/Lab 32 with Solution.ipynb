{
 "cells": [
  {
   "cell_type": "code",
   "execution_count": null,
   "metadata": {},
   "outputs": [],
   "source": [
    "#lab 32 - Read and Write Operations on XML Files using Pandas\n",
    "\n",
    "## Problem\n",
    "\n",
    "# 1. Read 'pokemon.xml' file into pandas dataframe \n",
    "# 2. display data records from dataframe\n"
   ]
  },
  {
   "cell_type": "code",
   "execution_count": 37,
   "metadata": {},
   "outputs": [
    {
     "name": "stdout",
     "output_type": "stream",
     "text": [
      "                      Name    Type1   Type2 Total  HP Attack Defense Sp.Atk  \\\n",
      "0                Bulbasaur    Grass  Poison   318  45     49      49     65   \n",
      "1                  Ivysaur    Grass  Poison   405  60     62      63     80   \n",
      "2                 Venusaur    Grass  Poison   525  80     82      83    100   \n",
      "3    VenusaurMega Venusaur    Grass  Poison   625  80    100     123    122   \n",
      "4               Charmander     Fire    None   309  39     52      43     60   \n",
      "..                     ...      ...     ...   ...  ..    ...     ...    ...   \n",
      "795                Diancie     Rock   Fairy   600  50    100     150    100   \n",
      "796    DiancieMega Diancie     Rock   Fairy   700  50    160     110    160   \n",
      "797    HoopaHoopa Confined  Psychic   Ghost   600  80    110      60    150   \n",
      "798     HoopaHoopa Unbound  Psychic    Dark   680  80    160      60    170   \n",
      "799              Volcanion     Fire   Water   600  80    110     120    130   \n",
      "\n",
      "    Sp.Def Speed Generation Legendary  \n",
      "0       65    45          1     FALSE  \n",
      "1       80    60          1     FALSE  \n",
      "2      100    80          1     FALSE  \n",
      "3      120    80          1     FALSE  \n",
      "4       50    65          1     FALSE  \n",
      "..     ...   ...        ...       ...  \n",
      "795    150    50          6      TRUE  \n",
      "796    110   110          6      TRUE  \n",
      "797    130    70          6      TRUE  \n",
      "798    130    80          6      TRUE  \n",
      "799     90    70          6      TRUE  \n",
      "\n",
      "[800 rows x 12 columns]\n"
     ]
    }
   ],
   "source": [
    "## Solution\n",
    "\n",
    "import pandas as pd \n",
    "\n",
    "import xml.etree.ElementTree as etree\n",
    "\n",
    "\n",
    "tree = etree.parse(\"pokemon.xml\")\n",
    "\n",
    "root = tree.getroot()\n",
    "\n",
    "columns = ['Name', 'Type1','Type2','Total','HP','Attack','Defense','Sp.Atk','Sp.Def','Speed','Generation','Legendary']\n",
    "\n",
    "datatframe = pd.DataFrame(columns = columns)\n",
    "\n",
    "for node in root: \n",
    "\n",
    "\n",
    "    name = node.find(\"Name\").text if node is not None else None\n",
    "    \n",
    "    Type1 = node.find(\"Type1\").text if node is not None else None\n",
    "    \n",
    "    Type2 = node.find(\"Type2\").text if node is not None else None\n",
    "    \n",
    "    Total = node.find(\"Total\").text if node is not None else None\n",
    "    \n",
    "    HP = node.find(\"HP\").text if node is not None else None\n",
    "    \n",
    "    Attack = node.find(\"Attack\").text if node is not None else None\n",
    "    \n",
    "    Defense = node.find(\"Defense\").text if node is not None else None\n",
    "    \n",
    "    SpAtk = node.find(\"Sp.Atk\").text if node is not None else None\n",
    "    \n",
    "    SpDef = node.find(\"Sp.Def\").text if node is not None else None\n",
    "    \n",
    "    Speed = node.find(\"Speed\").text if node is not None else None\n",
    "    \n",
    "    Generation = node.find(\"Generation\").text if node is not None else None\n",
    "    \n",
    "    Legendary = node.find(\"Legendary\").text if node is not None else None\n",
    "    \n",
    "\n",
    "    datatframe = datatframe.append(pd.Series([name, Type1,Type2,Total,HP,Attack,Defense,SpAtk,SpDef,Speed,Generation,Legendary], index = columns), ignore_index = True)\n",
    "\n",
    "\n",
    "print(datatframe)   "
   ]
  },
  {
   "cell_type": "code",
   "execution_count": null,
   "metadata": {},
   "outputs": [],
   "source": [
    "#c"
   ]
  }
 ],
 "metadata": {
  "kernelspec": {
   "display_name": "Python 3",
   "language": "python",
   "name": "python3"
  },
  "language_info": {
   "codemirror_mode": {
    "name": "ipython",
    "version": 3
   },
   "file_extension": ".py",
   "mimetype": "text/x-python",
   "name": "python",
   "nbconvert_exporter": "python",
   "pygments_lexer": "ipython3",
   "version": "3.7.6"
  }
 },
 "nbformat": 4,
 "nbformat_minor": 4
}
