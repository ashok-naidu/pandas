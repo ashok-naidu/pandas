{
 "cells": [
  {
   "cell_type": "code",
   "execution_count": null,
   "metadata": {},
   "outputs": [],
   "source": [
    "#lab 30 - Fixed Length files with pandas\n",
    "\n",
    "## Problem\n",
    "\n",
    "1. Read fixed length file 'pokemon.txt'\n",
    "\n",
    "2. Columns deatils \n",
    "\n",
    "Columns Name - length \n",
    "\n",
    "# - 3\n",
    "\n",
    "Name - 25 \n",
    "\n",
    "Type_1 - 8\n",
    "\n",
    "Type_2 - 8\n",
    "\n",
    "Total - 3\n",
    "\n",
    "HP - 3\n",
    "\n",
    "Attack - 3\n",
    "\n",
    "\n",
    "Defense - 3\n",
    "\n",
    "\n",
    "Sp._Atk - 3\n",
    "\n",
    "\n",
    "Sp._Def - 3\n",
    "\n",
    "\n",
    "Speed - 3\n",
    "\n",
    "Generation - 1\n",
    "\n",
    "Legendary - 5"
   ]
  },
  {
   "cell_type": "code",
   "execution_count": 29,
   "metadata": {
    "scrolled": true
   },
   "outputs": [
    {
     "name": "stdout",
     "output_type": "stream",
     "text": [
      "       #                       Name   Type_1  Type_2  Total  HP  Attack  \\\n",
      "0      1  CharizardMega Charizard X    Grass  Poison    318  45      49   \n",
      "1      2                    Ivysaur    Grass  Poison    405  60      62   \n",
      "2      3                   Venusaur    Grass  Poison    525  80      82   \n",
      "3      4      VenusaurMega Venusaur    Grass  Poison    625  80     100   \n",
      "4      5                 Charmander     Fire     NaN    309  39      52   \n",
      "..   ...                        ...      ...     ...    ...  ..     ...   \n",
      "795  796                    Diancie     Rock   Fairy    600  50     100   \n",
      "796  797        DiancieMega Diancie     Rock   Fairy    700  50     160   \n",
      "797  798        HoopaHoopa Confined  Psychic   Ghost    600  80     110   \n",
      "798  799         HoopaHoopa Unbound  Psychic    Dark    680  80     160   \n",
      "799  800                  Volcanion     Fire   Water    600  80     110   \n",
      "\n",
      "     Defense  Sp._Atk  Sp._Def  Speed  Generation Legendary  \n",
      "0         49       65       65     45         1.0     FALSE  \n",
      "1         63       80       80     60         1.0     FALSE  \n",
      "2         83      100      100     80         1.0     FALSE  \n",
      "3        123      122      120     80         1.0     FALSE  \n",
      "4         43       60       50     65         1.0     FALSE  \n",
      "..       ...      ...      ...    ...         ...       ...  \n",
      "795      150      100      150     50         6.0      TRUE  \n",
      "796      110      160      110    110         6.0      TRUE  \n",
      "797       60      150      130     70         6.0      TRUE  \n",
      "798       60      170      130     80         6.0      TRUE  \n",
      "799      120      130       90     70         6.0      TRUE  \n",
      "\n",
      "[800 rows x 13 columns]\n"
     ]
    }
   ],
   "source": [
    "## Solution\n",
    "\n",
    "\n",
    "import pandas as pd\n",
    "\n",
    "# Defining column names \n",
    "headings = ['#','Name','Type_1','Type_2','Total','HP','Attack','Defense','Sp._Atk','Sp._Def','Speed','Generation','Legendary'];\n",
    "\n",
    "# Defining column lenths \n",
    "colspecs = [(0, 3),(4,29),(30,38),(39,47),(48,51),(52,55),(56,59),(60,63),(64,67),(68,71),(72,75),(76,77),(78,83)];\n",
    "\n",
    "#Reading data\n",
    "data = pd.read_fwf('pokemon.txt', names=headings,header=None, colspecs=colspecs);\n",
    "\n",
    "print(data);\n",
    "\n"
   ]
  },
  {
   "cell_type": "code",
   "execution_count": null,
   "metadata": {},
   "outputs": [],
   "source": []
  }
 ],
 "metadata": {
  "kernelspec": {
   "display_name": "Python 3",
   "language": "python",
   "name": "python3"
  },
  "language_info": {
   "codemirror_mode": {
    "name": "ipython",
    "version": 3
   },
   "file_extension": ".py",
   "mimetype": "text/x-python",
   "name": "python",
   "nbconvert_exporter": "python",
   "pygments_lexer": "ipython3",
   "version": "3.7.6"
  }
 },
 "nbformat": 4,
 "nbformat_minor": 4
}
