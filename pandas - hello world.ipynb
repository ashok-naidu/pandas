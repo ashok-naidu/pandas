{
 "cells": [
  {
   "cell_type": "code",
   "execution_count": 2,
   "metadata": {},
   "outputs": [],
   "source": [
    "import numpy as np"
   ]
  },
  {
   "cell_type": "code",
   "execution_count": 3,
   "metadata": {},
   "outputs": [],
   "source": [
    "import pandas as pd"
   ]
  },
  {
   "cell_type": "code",
   "execution_count": 7,
   "metadata": {},
   "outputs": [],
   "source": [
    "# creating a series"
   ]
  },
  {
   "cell_type": "code",
   "execution_count": null,
   "metadata": {},
   "outputs": [],
   "source": []
  },
  {
   "cell_type": "code",
   "execution_count": 5,
   "metadata": {},
   "outputs": [],
   "source": [
    "series=pd.Series([1,3,5,np.nan,6,8])"
   ]
  },
  {
   "cell_type": "code",
   "execution_count": 9,
   "metadata": {
    "scrolled": true
   },
   "outputs": [
    {
     "data": {
      "text/plain": [
       "0    1.0\n",
       "1    3.0\n",
       "2    5.0\n",
       "3    NaN\n",
       "4    6.0\n",
       "5    8.0\n",
       "dtype: float64"
      ]
     },
     "execution_count": 9,
     "metadata": {},
     "output_type": "execute_result"
    }
   ],
   "source": [
    "series"
   ]
  },
  {
   "cell_type": "code",
   "execution_count": null,
   "metadata": {},
   "outputs": [],
   "source": []
  },
  {
   "cell_type": "code",
   "execution_count": 8,
   "metadata": {},
   "outputs": [],
   "source": [
    "#Creating data frame with numpy array"
   ]
  },
  {
   "cell_type": "code",
   "execution_count": 13,
   "metadata": {},
   "outputs": [],
   "source": [
    "dates=pd.date_range('20200101',periods=12)"
   ]
  },
  {
   "cell_type": "code",
   "execution_count": null,
   "metadata": {},
   "outputs": [],
   "source": []
  },
  {
   "cell_type": "code",
   "execution_count": 19,
   "metadata": {},
   "outputs": [
    {
     "data": {
      "text/plain": [
       "DatetimeIndex(['2020-01-01', '2020-01-02', '2020-01-03', '2020-01-04',\n",
       "               '2020-01-05', '2020-01-06', '2020-01-07', '2020-01-08',\n",
       "               '2020-01-09', '2020-01-10', '2020-01-11', '2020-01-12'],\n",
       "              dtype='datetime64[ns]', freq='D')"
      ]
     },
     "execution_count": 19,
     "metadata": {},
     "output_type": "execute_result"
    }
   ],
   "source": [
    "dates"
   ]
  },
  {
   "cell_type": "code",
   "execution_count": null,
   "metadata": {},
   "outputs": [],
   "source": []
  },
  {
   "cell_type": "code",
   "execution_count": 21,
   "metadata": {},
   "outputs": [],
   "source": [
    "df=pd.DataFrame(np.random.randn(12, 4), index=dates, columns=list('ABCD'))"
   ]
  },
  {
   "cell_type": "code",
   "execution_count": 22,
   "metadata": {},
   "outputs": [
    {
     "data": {
      "text/html": [
       "<div>\n",
       "<style scoped>\n",
       "    .dataframe tbody tr th:only-of-type {\n",
       "        vertical-align: middle;\n",
       "    }\n",
       "\n",
       "    .dataframe tbody tr th {\n",
       "        vertical-align: top;\n",
       "    }\n",
       "\n",
       "    .dataframe thead th {\n",
       "        text-align: right;\n",
       "    }\n",
       "</style>\n",
       "<table border=\"1\" class=\"dataframe\">\n",
       "  <thead>\n",
       "    <tr style=\"text-align: right;\">\n",
       "      <th></th>\n",
       "      <th>A</th>\n",
       "      <th>B</th>\n",
       "      <th>C</th>\n",
       "      <th>D</th>\n",
       "    </tr>\n",
       "  </thead>\n",
       "  <tbody>\n",
       "    <tr>\n",
       "      <th>2020-01-01</th>\n",
       "      <td>-0.212911</td>\n",
       "      <td>1.395428</td>\n",
       "      <td>0.790261</td>\n",
       "      <td>-0.222705</td>\n",
       "    </tr>\n",
       "    <tr>\n",
       "      <th>2020-01-02</th>\n",
       "      <td>-0.698543</td>\n",
       "      <td>0.912259</td>\n",
       "      <td>0.775821</td>\n",
       "      <td>-0.723691</td>\n",
       "    </tr>\n",
       "    <tr>\n",
       "      <th>2020-01-03</th>\n",
       "      <td>-0.520146</td>\n",
       "      <td>0.537095</td>\n",
       "      <td>1.588142</td>\n",
       "      <td>-1.199418</td>\n",
       "    </tr>\n",
       "    <tr>\n",
       "      <th>2020-01-04</th>\n",
       "      <td>-0.242864</td>\n",
       "      <td>0.115305</td>\n",
       "      <td>-1.126682</td>\n",
       "      <td>-0.872197</td>\n",
       "    </tr>\n",
       "    <tr>\n",
       "      <th>2020-01-05</th>\n",
       "      <td>0.010510</td>\n",
       "      <td>-2.116132</td>\n",
       "      <td>-0.927170</td>\n",
       "      <td>0.794448</td>\n",
       "    </tr>\n",
       "    <tr>\n",
       "      <th>2020-01-06</th>\n",
       "      <td>0.965155</td>\n",
       "      <td>0.006897</td>\n",
       "      <td>-0.567126</td>\n",
       "      <td>0.543510</td>\n",
       "    </tr>\n",
       "    <tr>\n",
       "      <th>2020-01-07</th>\n",
       "      <td>1.199625</td>\n",
       "      <td>0.193837</td>\n",
       "      <td>-1.293752</td>\n",
       "      <td>0.256236</td>\n",
       "    </tr>\n",
       "    <tr>\n",
       "      <th>2020-01-08</th>\n",
       "      <td>0.268446</td>\n",
       "      <td>0.287557</td>\n",
       "      <td>-0.916635</td>\n",
       "      <td>1.523712</td>\n",
       "    </tr>\n",
       "    <tr>\n",
       "      <th>2020-01-09</th>\n",
       "      <td>-0.071199</td>\n",
       "      <td>0.069689</td>\n",
       "      <td>0.189605</td>\n",
       "      <td>0.444737</td>\n",
       "    </tr>\n",
       "    <tr>\n",
       "      <th>2020-01-10</th>\n",
       "      <td>0.549458</td>\n",
       "      <td>-0.927788</td>\n",
       "      <td>0.924355</td>\n",
       "      <td>0.573558</td>\n",
       "    </tr>\n",
       "    <tr>\n",
       "      <th>2020-01-11</th>\n",
       "      <td>-0.607476</td>\n",
       "      <td>-0.942235</td>\n",
       "      <td>2.308443</td>\n",
       "      <td>0.600070</td>\n",
       "    </tr>\n",
       "    <tr>\n",
       "      <th>2020-01-12</th>\n",
       "      <td>-1.632874</td>\n",
       "      <td>0.333482</td>\n",
       "      <td>-0.381928</td>\n",
       "      <td>0.299802</td>\n",
       "    </tr>\n",
       "  </tbody>\n",
       "</table>\n",
       "</div>"
      ],
      "text/plain": [
       "                   A         B         C         D\n",
       "2020-01-01 -0.212911  1.395428  0.790261 -0.222705\n",
       "2020-01-02 -0.698543  0.912259  0.775821 -0.723691\n",
       "2020-01-03 -0.520146  0.537095  1.588142 -1.199418\n",
       "2020-01-04 -0.242864  0.115305 -1.126682 -0.872197\n",
       "2020-01-05  0.010510 -2.116132 -0.927170  0.794448\n",
       "2020-01-06  0.965155  0.006897 -0.567126  0.543510\n",
       "2020-01-07  1.199625  0.193837 -1.293752  0.256236\n",
       "2020-01-08  0.268446  0.287557 -0.916635  1.523712\n",
       "2020-01-09 -0.071199  0.069689  0.189605  0.444737\n",
       "2020-01-10  0.549458 -0.927788  0.924355  0.573558\n",
       "2020-01-11 -0.607476 -0.942235  2.308443  0.600070\n",
       "2020-01-12 -1.632874  0.333482 -0.381928  0.299802"
      ]
     },
     "execution_count": 22,
     "metadata": {},
     "output_type": "execute_result"
    }
   ],
   "source": [
    "df"
   ]
  },
  {
   "cell_type": "code",
   "execution_count": 31,
   "metadata": {},
   "outputs": [
    {
     "data": {
      "text/plain": [
       "A    float64\n",
       "B    float64\n",
       "C    float64\n",
       "D    float64\n",
       "dtype: object"
      ]
     },
     "execution_count": 31,
     "metadata": {},
     "output_type": "execute_result"
    }
   ],
   "source": []
  },
  {
   "cell_type": "code",
   "execution_count": 33,
   "metadata": {},
   "outputs": [],
   "source": [
    "df2 = pd.DataFrame({'A': 1.,'B': pd.Timestamp('20130102'),'C': pd.Series(1, index=list(range(4)), dtype='float32'),'D': np.array([3] * 4, dtype='int32'),'E': pd.Categorical([\"test\", \"train\", \"test\", \"train\"]),'F': 'foo'})"
   ]
  },
  {
   "cell_type": "code",
   "execution_count": 35,
   "metadata": {},
   "outputs": [
    {
     "data": {
      "text/plain": [
       "A           float64\n",
       "B    datetime64[ns]\n",
       "C           float32\n",
       "D             int32\n",
       "E          category\n",
       "F            object\n",
       "dtype: object"
      ]
     },
     "execution_count": 35,
     "metadata": {},
     "output_type": "execute_result"
    }
   ],
   "source": [
    "df2.dtypes"
   ]
  },
  {
   "cell_type": "code",
   "execution_count": 36,
   "metadata": {},
   "outputs": [
    {
     "data": {
      "text/html": [
       "<div>\n",
       "<style scoped>\n",
       "    .dataframe tbody tr th:only-of-type {\n",
       "        vertical-align: middle;\n",
       "    }\n",
       "\n",
       "    .dataframe tbody tr th {\n",
       "        vertical-align: top;\n",
       "    }\n",
       "\n",
       "    .dataframe thead th {\n",
       "        text-align: right;\n",
       "    }\n",
       "</style>\n",
       "<table border=\"1\" class=\"dataframe\">\n",
       "  <thead>\n",
       "    <tr style=\"text-align: right;\">\n",
       "      <th></th>\n",
       "      <th>A</th>\n",
       "      <th>B</th>\n",
       "      <th>C</th>\n",
       "      <th>D</th>\n",
       "    </tr>\n",
       "  </thead>\n",
       "  <tbody>\n",
       "    <tr>\n",
       "      <th>2020-01-01</th>\n",
       "      <td>-0.212911</td>\n",
       "      <td>1.395428</td>\n",
       "      <td>0.790261</td>\n",
       "      <td>-0.222705</td>\n",
       "    </tr>\n",
       "    <tr>\n",
       "      <th>2020-01-02</th>\n",
       "      <td>-0.698543</td>\n",
       "      <td>0.912259</td>\n",
       "      <td>0.775821</td>\n",
       "      <td>-0.723691</td>\n",
       "    </tr>\n",
       "    <tr>\n",
       "      <th>2020-01-03</th>\n",
       "      <td>-0.520146</td>\n",
       "      <td>0.537095</td>\n",
       "      <td>1.588142</td>\n",
       "      <td>-1.199418</td>\n",
       "    </tr>\n",
       "    <tr>\n",
       "      <th>2020-01-04</th>\n",
       "      <td>-0.242864</td>\n",
       "      <td>0.115305</td>\n",
       "      <td>-1.126682</td>\n",
       "      <td>-0.872197</td>\n",
       "    </tr>\n",
       "    <tr>\n",
       "      <th>2020-01-05</th>\n",
       "      <td>0.010510</td>\n",
       "      <td>-2.116132</td>\n",
       "      <td>-0.927170</td>\n",
       "      <td>0.794448</td>\n",
       "    </tr>\n",
       "  </tbody>\n",
       "</table>\n",
       "</div>"
      ],
      "text/plain": [
       "                   A         B         C         D\n",
       "2020-01-01 -0.212911  1.395428  0.790261 -0.222705\n",
       "2020-01-02 -0.698543  0.912259  0.775821 -0.723691\n",
       "2020-01-03 -0.520146  0.537095  1.588142 -1.199418\n",
       "2020-01-04 -0.242864  0.115305 -1.126682 -0.872197\n",
       "2020-01-05  0.010510 -2.116132 -0.927170  0.794448"
      ]
     },
     "execution_count": 36,
     "metadata": {},
     "output_type": "execute_result"
    }
   ],
   "source": [
    "df.head()"
   ]
  },
  {
   "cell_type": "code",
   "execution_count": 40,
   "metadata": {},
   "outputs": [
    {
     "data": {
      "text/html": [
       "<div>\n",
       "<style scoped>\n",
       "    .dataframe tbody tr th:only-of-type {\n",
       "        vertical-align: middle;\n",
       "    }\n",
       "\n",
       "    .dataframe tbody tr th {\n",
       "        vertical-align: top;\n",
       "    }\n",
       "\n",
       "    .dataframe thead th {\n",
       "        text-align: right;\n",
       "    }\n",
       "</style>\n",
       "<table border=\"1\" class=\"dataframe\">\n",
       "  <thead>\n",
       "    <tr style=\"text-align: right;\">\n",
       "      <th></th>\n",
       "      <th>A</th>\n",
       "      <th>B</th>\n",
       "      <th>C</th>\n",
       "      <th>D</th>\n",
       "    </tr>\n",
       "  </thead>\n",
       "  <tbody>\n",
       "    <tr>\n",
       "      <th>2020-01-11</th>\n",
       "      <td>-0.607476</td>\n",
       "      <td>-0.942235</td>\n",
       "      <td>2.308443</td>\n",
       "      <td>0.600070</td>\n",
       "    </tr>\n",
       "    <tr>\n",
       "      <th>2020-01-12</th>\n",
       "      <td>-1.632874</td>\n",
       "      <td>0.333482</td>\n",
       "      <td>-0.381928</td>\n",
       "      <td>0.299802</td>\n",
       "    </tr>\n",
       "  </tbody>\n",
       "</table>\n",
       "</div>"
      ],
      "text/plain": [
       "                   A         B         C         D\n",
       "2020-01-11 -0.607476 -0.942235  2.308443  0.600070\n",
       "2020-01-12 -1.632874  0.333482 -0.381928  0.299802"
      ]
     },
     "execution_count": 40,
     "metadata": {},
     "output_type": "execute_result"
    }
   ],
   "source": [
    "df.tail(2)"
   ]
  },
  {
   "cell_type": "code",
   "execution_count": 38,
   "metadata": {},
   "outputs": [
    {
     "data": {
      "text/plain": [
       "DatetimeIndex(['2020-01-01', '2020-01-02', '2020-01-03', '2020-01-04',\n",
       "               '2020-01-05', '2020-01-06', '2020-01-07', '2020-01-08',\n",
       "               '2020-01-09', '2020-01-10', '2020-01-11', '2020-01-12'],\n",
       "              dtype='datetime64[ns]', freq='D')"
      ]
     },
     "execution_count": 38,
     "metadata": {},
     "output_type": "execute_result"
    }
   ],
   "source": [
    "df.index"
   ]
  },
  {
   "cell_type": "code",
   "execution_count": 39,
   "metadata": {},
   "outputs": [
    {
     "data": {
      "text/plain": [
       "array([[-0.21291098,  1.3954285 ,  0.79026059, -0.22270518],\n",
       "       [-0.69854319,  0.91225855,  0.7758214 , -0.72369112],\n",
       "       [-0.52014578,  0.53709514,  1.58814205, -1.1994184 ],\n",
       "       [-0.24286435,  0.11530452, -1.1266824 , -0.87219737],\n",
       "       [ 0.0105102 , -2.11613202, -0.92716982,  0.79444769],\n",
       "       [ 0.96515483,  0.00689662, -0.56712583,  0.54350955],\n",
       "       [ 1.19962544,  0.19383685, -1.29375226,  0.25623566],\n",
       "       [ 0.26844603,  0.28755727, -0.91663499,  1.52371198],\n",
       "       [-0.07119856,  0.06968903,  0.18960461,  0.44473704],\n",
       "       [ 0.54945793, -0.9277884 ,  0.92435521,  0.57355815],\n",
       "       [-0.60747555, -0.94223529,  2.30844306,  0.60006979],\n",
       "       [-1.6328741 ,  0.33348233, -0.38192762,  0.29980157]])"
      ]
     },
     "execution_count": 39,
     "metadata": {},
     "output_type": "execute_result"
    }
   ],
   "source": [
    "df.to_numpy()"
   ]
  },
  {
   "cell_type": "code",
   "execution_count": 41,
   "metadata": {},
   "outputs": [
    {
     "data": {
      "text/html": [
       "<div>\n",
       "<style scoped>\n",
       "    .dataframe tbody tr th:only-of-type {\n",
       "        vertical-align: middle;\n",
       "    }\n",
       "\n",
       "    .dataframe tbody tr th {\n",
       "        vertical-align: top;\n",
       "    }\n",
       "\n",
       "    .dataframe thead th {\n",
       "        text-align: right;\n",
       "    }\n",
       "</style>\n",
       "<table border=\"1\" class=\"dataframe\">\n",
       "  <thead>\n",
       "    <tr style=\"text-align: right;\">\n",
       "      <th></th>\n",
       "      <th>A</th>\n",
       "      <th>B</th>\n",
       "      <th>C</th>\n",
       "      <th>D</th>\n",
       "    </tr>\n",
       "  </thead>\n",
       "  <tbody>\n",
       "    <tr>\n",
       "      <th>count</th>\n",
       "      <td>12.000000</td>\n",
       "      <td>12.000000</td>\n",
       "      <td>12.000000</td>\n",
       "      <td>12.000000</td>\n",
       "    </tr>\n",
       "    <tr>\n",
       "      <th>mean</th>\n",
       "      <td>-0.082735</td>\n",
       "      <td>-0.011217</td>\n",
       "      <td>0.113611</td>\n",
       "      <td>0.168172</td>\n",
       "    </tr>\n",
       "    <tr>\n",
       "      <th>std</th>\n",
       "      <td>0.772585</td>\n",
       "      <td>0.931406</td>\n",
       "      <td>1.164770</td>\n",
       "      <td>0.781834</td>\n",
       "    </tr>\n",
       "    <tr>\n",
       "      <th>min</th>\n",
       "      <td>-1.632874</td>\n",
       "      <td>-2.116132</td>\n",
       "      <td>-1.293752</td>\n",
       "      <td>-1.199418</td>\n",
       "    </tr>\n",
       "    <tr>\n",
       "      <th>25%</th>\n",
       "      <td>-0.541978</td>\n",
       "      <td>-0.226775</td>\n",
       "      <td>-0.919269</td>\n",
       "      <td>-0.347952</td>\n",
       "    </tr>\n",
       "    <tr>\n",
       "      <th>50%</th>\n",
       "      <td>-0.142055</td>\n",
       "      <td>0.154571</td>\n",
       "      <td>-0.096162</td>\n",
       "      <td>0.372269</td>\n",
       "    </tr>\n",
       "    <tr>\n",
       "      <th>75%</th>\n",
       "      <td>0.338699</td>\n",
       "      <td>0.384386</td>\n",
       "      <td>0.823784</td>\n",
       "      <td>0.580186</td>\n",
       "    </tr>\n",
       "    <tr>\n",
       "      <th>max</th>\n",
       "      <td>1.199625</td>\n",
       "      <td>1.395428</td>\n",
       "      <td>2.308443</td>\n",
       "      <td>1.523712</td>\n",
       "    </tr>\n",
       "  </tbody>\n",
       "</table>\n",
       "</div>"
      ],
      "text/plain": [
       "               A          B          C          D\n",
       "count  12.000000  12.000000  12.000000  12.000000\n",
       "mean   -0.082735  -0.011217   0.113611   0.168172\n",
       "std     0.772585   0.931406   1.164770   0.781834\n",
       "min    -1.632874  -2.116132  -1.293752  -1.199418\n",
       "25%    -0.541978  -0.226775  -0.919269  -0.347952\n",
       "50%    -0.142055   0.154571  -0.096162   0.372269\n",
       "75%     0.338699   0.384386   0.823784   0.580186\n",
       "max     1.199625   1.395428   2.308443   1.523712"
      ]
     },
     "execution_count": 41,
     "metadata": {},
     "output_type": "execute_result"
    }
   ],
   "source": [
    "df.describe()"
   ]
  },
  {
   "cell_type": "code",
   "execution_count": 42,
   "metadata": {},
   "outputs": [
    {
     "data": {
      "text/html": [
       "<div>\n",
       "<style scoped>\n",
       "    .dataframe tbody tr th:only-of-type {\n",
       "        vertical-align: middle;\n",
       "    }\n",
       "\n",
       "    .dataframe tbody tr th {\n",
       "        vertical-align: top;\n",
       "    }\n",
       "\n",
       "    .dataframe thead th {\n",
       "        text-align: right;\n",
       "    }\n",
       "</style>\n",
       "<table border=\"1\" class=\"dataframe\">\n",
       "  <thead>\n",
       "    <tr style=\"text-align: right;\">\n",
       "      <th></th>\n",
       "      <th>2020-01-01</th>\n",
       "      <th>2020-01-02</th>\n",
       "      <th>2020-01-03</th>\n",
       "      <th>2020-01-04</th>\n",
       "      <th>2020-01-05</th>\n",
       "      <th>2020-01-06</th>\n",
       "      <th>2020-01-07</th>\n",
       "      <th>2020-01-08</th>\n",
       "      <th>2020-01-09</th>\n",
       "      <th>2020-01-10</th>\n",
       "      <th>2020-01-11</th>\n",
       "      <th>2020-01-12</th>\n",
       "    </tr>\n",
       "  </thead>\n",
       "  <tbody>\n",
       "    <tr>\n",
       "      <th>A</th>\n",
       "      <td>-0.212911</td>\n",
       "      <td>-0.698543</td>\n",
       "      <td>-0.520146</td>\n",
       "      <td>-0.242864</td>\n",
       "      <td>0.010510</td>\n",
       "      <td>0.965155</td>\n",
       "      <td>1.199625</td>\n",
       "      <td>0.268446</td>\n",
       "      <td>-0.071199</td>\n",
       "      <td>0.549458</td>\n",
       "      <td>-0.607476</td>\n",
       "      <td>-1.632874</td>\n",
       "    </tr>\n",
       "    <tr>\n",
       "      <th>B</th>\n",
       "      <td>1.395428</td>\n",
       "      <td>0.912259</td>\n",
       "      <td>0.537095</td>\n",
       "      <td>0.115305</td>\n",
       "      <td>-2.116132</td>\n",
       "      <td>0.006897</td>\n",
       "      <td>0.193837</td>\n",
       "      <td>0.287557</td>\n",
       "      <td>0.069689</td>\n",
       "      <td>-0.927788</td>\n",
       "      <td>-0.942235</td>\n",
       "      <td>0.333482</td>\n",
       "    </tr>\n",
       "    <tr>\n",
       "      <th>C</th>\n",
       "      <td>0.790261</td>\n",
       "      <td>0.775821</td>\n",
       "      <td>1.588142</td>\n",
       "      <td>-1.126682</td>\n",
       "      <td>-0.927170</td>\n",
       "      <td>-0.567126</td>\n",
       "      <td>-1.293752</td>\n",
       "      <td>-0.916635</td>\n",
       "      <td>0.189605</td>\n",
       "      <td>0.924355</td>\n",
       "      <td>2.308443</td>\n",
       "      <td>-0.381928</td>\n",
       "    </tr>\n",
       "    <tr>\n",
       "      <th>D</th>\n",
       "      <td>-0.222705</td>\n",
       "      <td>-0.723691</td>\n",
       "      <td>-1.199418</td>\n",
       "      <td>-0.872197</td>\n",
       "      <td>0.794448</td>\n",
       "      <td>0.543510</td>\n",
       "      <td>0.256236</td>\n",
       "      <td>1.523712</td>\n",
       "      <td>0.444737</td>\n",
       "      <td>0.573558</td>\n",
       "      <td>0.600070</td>\n",
       "      <td>0.299802</td>\n",
       "    </tr>\n",
       "  </tbody>\n",
       "</table>\n",
       "</div>"
      ],
      "text/plain": [
       "   2020-01-01  2020-01-02  2020-01-03  2020-01-04  2020-01-05  2020-01-06  \\\n",
       "A   -0.212911   -0.698543   -0.520146   -0.242864    0.010510    0.965155   \n",
       "B    1.395428    0.912259    0.537095    0.115305   -2.116132    0.006897   \n",
       "C    0.790261    0.775821    1.588142   -1.126682   -0.927170   -0.567126   \n",
       "D   -0.222705   -0.723691   -1.199418   -0.872197    0.794448    0.543510   \n",
       "\n",
       "   2020-01-07  2020-01-08  2020-01-09  2020-01-10  2020-01-11  2020-01-12  \n",
       "A    1.199625    0.268446   -0.071199    0.549458   -0.607476   -1.632874  \n",
       "B    0.193837    0.287557    0.069689   -0.927788   -0.942235    0.333482  \n",
       "C   -1.293752   -0.916635    0.189605    0.924355    2.308443   -0.381928  \n",
       "D    0.256236    1.523712    0.444737    0.573558    0.600070    0.299802  "
      ]
     },
     "execution_count": 42,
     "metadata": {},
     "output_type": "execute_result"
    }
   ],
   "source": [
    "df.T"
   ]
  },
  {
   "cell_type": "code",
   "execution_count": 46,
   "metadata": {},
   "outputs": [
    {
     "data": {
      "text/html": [
       "<div>\n",
       "<style scoped>\n",
       "    .dataframe tbody tr th:only-of-type {\n",
       "        vertical-align: middle;\n",
       "    }\n",
       "\n",
       "    .dataframe tbody tr th {\n",
       "        vertical-align: top;\n",
       "    }\n",
       "\n",
       "    .dataframe thead th {\n",
       "        text-align: right;\n",
       "    }\n",
       "</style>\n",
       "<table border=\"1\" class=\"dataframe\">\n",
       "  <thead>\n",
       "    <tr style=\"text-align: right;\">\n",
       "      <th></th>\n",
       "      <th>A</th>\n",
       "      <th>B</th>\n",
       "      <th>C</th>\n",
       "      <th>D</th>\n",
       "    </tr>\n",
       "  </thead>\n",
       "  <tbody>\n",
       "    <tr>\n",
       "      <th>2020-01-05</th>\n",
       "      <td>0.010510</td>\n",
       "      <td>-2.116132</td>\n",
       "      <td>-0.927170</td>\n",
       "      <td>0.794448</td>\n",
       "    </tr>\n",
       "    <tr>\n",
       "      <th>2020-01-06</th>\n",
       "      <td>0.965155</td>\n",
       "      <td>0.006897</td>\n",
       "      <td>-0.567126</td>\n",
       "      <td>0.543510</td>\n",
       "    </tr>\n",
       "    <tr>\n",
       "      <th>2020-01-07</th>\n",
       "      <td>1.199625</td>\n",
       "      <td>0.193837</td>\n",
       "      <td>-1.293752</td>\n",
       "      <td>0.256236</td>\n",
       "    </tr>\n",
       "    <tr>\n",
       "      <th>2020-01-08</th>\n",
       "      <td>0.268446</td>\n",
       "      <td>0.287557</td>\n",
       "      <td>-0.916635</td>\n",
       "      <td>1.523712</td>\n",
       "    </tr>\n",
       "    <tr>\n",
       "      <th>2020-01-10</th>\n",
       "      <td>0.549458</td>\n",
       "      <td>-0.927788</td>\n",
       "      <td>0.924355</td>\n",
       "      <td>0.573558</td>\n",
       "    </tr>\n",
       "  </tbody>\n",
       "</table>\n",
       "</div>"
      ],
      "text/plain": [
       "                   A         B         C         D\n",
       "2020-01-05  0.010510 -2.116132 -0.927170  0.794448\n",
       "2020-01-06  0.965155  0.006897 -0.567126  0.543510\n",
       "2020-01-07  1.199625  0.193837 -1.293752  0.256236\n",
       "2020-01-08  0.268446  0.287557 -0.916635  1.523712\n",
       "2020-01-10  0.549458 -0.927788  0.924355  0.573558"
      ]
     },
     "execution_count": 46,
     "metadata": {},
     "output_type": "execute_result"
    }
   ],
   "source": [
    "df[df['A']>0]"
   ]
  },
  {
   "cell_type": "code",
   "execution_count": null,
   "metadata": {},
   "outputs": [],
   "source": []
  },
  {
   "cell_type": "code",
   "execution_count": null,
   "metadata": {},
   "outputs": [],
   "source": []
  },
  {
   "cell_type": "code",
   "execution_count": null,
   "metadata": {},
   "outputs": [],
   "source": []
  },
  {
   "cell_type": "code",
   "execution_count": null,
   "metadata": {},
   "outputs": [],
   "source": []
  },
  {
   "cell_type": "code",
   "execution_count": null,
   "metadata": {},
   "outputs": [],
   "source": []
  },
  {
   "cell_type": "code",
   "execution_count": null,
   "metadata": {},
   "outputs": [],
   "source": []
  },
  {
   "cell_type": "code",
   "execution_count": null,
   "metadata": {},
   "outputs": [],
   "source": []
  },
  {
   "cell_type": "code",
   "execution_count": null,
   "metadata": {},
   "outputs": [],
   "source": []
  },
  {
   "cell_type": "code",
   "execution_count": null,
   "metadata": {},
   "outputs": [],
   "source": []
  },
  {
   "cell_type": "code",
   "execution_count": null,
   "metadata": {},
   "outputs": [],
   "source": []
  },
  {
   "cell_type": "code",
   "execution_count": null,
   "metadata": {},
   "outputs": [],
   "source": []
  },
  {
   "cell_type": "code",
   "execution_count": null,
   "metadata": {},
   "outputs": [],
   "source": []
  },
  {
   "cell_type": "code",
   "execution_count": null,
   "metadata": {},
   "outputs": [],
   "source": []
  },
  {
   "cell_type": "code",
   "execution_count": null,
   "metadata": {},
   "outputs": [],
   "source": []
  },
  {
   "cell_type": "code",
   "execution_count": null,
   "metadata": {},
   "outputs": [],
   "source": []
  },
  {
   "cell_type": "code",
   "execution_count": null,
   "metadata": {},
   "outputs": [],
   "source": []
  },
  {
   "cell_type": "code",
   "execution_count": null,
   "metadata": {},
   "outputs": [],
   "source": []
  },
  {
   "cell_type": "code",
   "execution_count": null,
   "metadata": {},
   "outputs": [],
   "source": [
    "# Creating dataframes with dictionary objects"
   ]
  }
 ],
 "metadata": {
  "kernelspec": {
   "display_name": "Python 3",
   "language": "python",
   "name": "python3"
  },
  "language_info": {
   "codemirror_mode": {
    "name": "ipython",
    "version": 3
   },
   "file_extension": ".py",
   "mimetype": "text/x-python",
   "name": "python",
   "nbconvert_exporter": "python",
   "pygments_lexer": "ipython3",
   "version": "3.7.6"
  }
 },
 "nbformat": 4,
 "nbformat_minor": 4
}
